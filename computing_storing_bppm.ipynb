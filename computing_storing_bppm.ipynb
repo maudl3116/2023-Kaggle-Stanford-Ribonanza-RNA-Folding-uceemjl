{
 "cells": [
  {
   "cell_type": "code",
   "execution_count": 1,
   "id": "6ff24a9f",
   "metadata": {},
   "outputs": [],
   "source": [
    "import pandas as pd\n",
    "import numpy as np\n",
    "from scipy.sparse import csr_matrix\n",
    "import scipy\n",
    "import glob\n",
    "import matplotlib.pyplot as plt\n",
    "import tqdm as tqdm\n",
    "import os\n",
    "import warnings\n",
    "warnings.filterwarnings('ignore')\n",
    "import sys"
   ]
  },
  {
   "cell_type": "code",
   "execution_count": 2,
   "id": "5f354cf0",
   "metadata": {},
   "outputs": [],
   "source": [
    "def df_to_sparse_matrix(df):\n",
    "    df.columns=['i','j','p']\n",
    "    df.i = df.i-1\n",
    "    df.j = df.j-1\n",
    "    new = df.pivot(index='i', columns='j', values='p')\n",
    "    return csr_matrix((df.p, (df.i, df.j)))"
   ]
  },
  {
   "cell_type": "code",
   "execution_count": 3,
   "id": "04c2fd0b",
   "metadata": {},
   "outputs": [],
   "source": [
    "df_train = pd.read_csv('/scratch/lemercier/WIP_data/train_data.csv')"
   ]
  },
  {
   "cell_type": "code",
   "execution_count": 4,
   "id": "97df0c18",
   "metadata": {},
   "outputs": [],
   "source": [
    "unique_seq = df_train.sequence_id.unique()"
   ]
  },
  {
   "cell_type": "code",
   "execution_count": 5,
   "id": "6e1181d6",
   "metadata": {},
   "outputs": [],
   "source": [
    "dg = pd.read_csv('/scratch/lemercier/WIP_data/Ribonanza_bpp_files/extra_data/all_files.txt')"
   ]
  },
  {
   "cell_type": "code",
   "execution_count": 6,
   "id": "2ff486cc",
   "metadata": {},
   "outputs": [],
   "source": [
    "dg.columns=['name']\n",
    "dg['parse_name'] = dg.name.apply(lambda x: x.split(' ')[-1][:31])\n",
    "dg['new_name'] = dg.name.apply(lambda x: x.split(' ')[-1][31:])\n",
    "dg = dg.query('parse_name==\"Ribonanza_bpp_files/extra_data/\"')\n",
    "dg = dg[['new_name']]\n",
    "dg['sequence_id'] = dg['new_name'].apply(lambda x: x.split('/')[-1][:-4])\n",
    "dg['folder0'] = dg['new_name'].apply(lambda x: x.split('/')[0])\n",
    "dg['folder1'] = dg['new_name'].apply(lambda x: x.split('/')[1])\n",
    "dg['folder2'] = dg['new_name'].apply(lambda x: x.split('/')[2])\n",
    "dg['full_folder']=dg.new_name.apply(lambda x: x[:6])\n",
    "dg['in_train'] = dg.isin({'sequence_id': unique_seq}).sequence_id"
   ]
  },
  {
   "cell_type": "markdown",
   "id": "91189846",
   "metadata": {},
   "source": [
    "**get all folders that contain train sequences**"
   ]
  },
  {
   "cell_type": "code",
   "execution_count": 7,
   "id": "5d9f03b0",
   "metadata": {},
   "outputs": [],
   "source": [
    "dg_train = dg.query('in_train==True')\n",
    "unique_train =  np.unique(dg_train.full_folder.values)"
   ]
  },
  {
   "cell_type": "markdown",
   "id": "04500a61",
   "metadata": {},
   "source": [
    "**unzip these folders one by one, compute and save the matrices, remove the files unziped**"
   ]
  },
  {
   "cell_type": "code",
   "execution_count": 8,
   "id": "bd040b51",
   "metadata": {},
   "outputs": [
    {
     "name": "stderr",
     "output_type": "stream",
     "text": [
      "100%|█████████████████████████████████████████| 347/347 [30:43<00:00,  5.31s/it]\n"
     ]
    }
   ],
   "source": [
    "base = '/scratch/lemercier/WIP_data/Ribonanza_bpp_files/extra_data/'\n",
    "zip_file = base+'stanford-ribonanza-rna-folding.zip'\n",
    "tmp = base+'tmp'\n",
    "\n",
    "for folder in tqdm.tqdm(unique_train):\n",
    "    \n",
    "    # create tmp folder where to unzip\n",
    "    os.system(\"mkdir {0}\".format(tmp))\n",
    "              \n",
    "    # unzip the folder\n",
    "    os.system(\"unzip {0} 'Ribonanza_bpp_files/extra_data/{1}*' -d {2} > /dev/null\".format(zip_file, folder, tmp))\n",
    "    \n",
    "    # location of unziped files\n",
    "    location = base+'tmp/Ribonanza_bpp_files/extra_data/'+folder\n",
    "    \n",
    "    # get all file names at this location \n",
    "    all_files = glob.glob(location+'*.txt') \n",
    "    \n",
    "    # compute and store the matries\n",
    "    for file in all_files:\n",
    "        sequence_id = file.split('/')[-1]\n",
    "        df = pd.read_csv(location+sequence_id, ' ', header=None)\n",
    "        B = df_to_sparse_matrix(df)\n",
    "        scipy.sparse.save_npz(base+'train/'+sequence_id[:-4]+'.npz', B)\n",
    "    \n",
    "    # remove unziped files \n",
    "    os.system(\"rm -r {}\".format(tmp))"
   ]
  }
 ],
 "metadata": {
  "kernelspec": {
   "display_name": "Python 3 (ipykernel)",
   "language": "python",
   "name": "python3"
  },
  "language_info": {
   "codemirror_mode": {
    "name": "ipython",
    "version": 3
   },
   "file_extension": ".py",
   "mimetype": "text/x-python",
   "name": "python",
   "nbconvert_exporter": "python",
   "pygments_lexer": "ipython3",
   "version": "3.10.12"
  }
 },
 "nbformat": 4,
 "nbformat_minor": 5
}
