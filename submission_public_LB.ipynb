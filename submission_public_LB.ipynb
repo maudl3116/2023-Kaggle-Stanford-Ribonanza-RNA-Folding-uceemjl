{
 "cells": [
  {
   "cell_type": "code",
   "execution_count": 18,
   "metadata": {},
   "outputs": [],
   "source": [
    "import os\n",
    "import gc\n",
    "import torch\n",
    "import pickle\n",
    "import importlib\n",
    "from importlib import reload\n",
    "import pandas as pd\n",
    "import numpy as np\n",
    "from tqdm import tqdm\n",
    "import matplotlib.pyplot as plt\n",
    "\n",
    "import dataloader\n",
    "from dataloader import RNA_Dataset, RNA_Sub_Dataset, LenMatchBatchSampler, DeviceDataLoader\n",
    "\n",
    "import model\n",
    "from model import RNA_Model\n",
    "\n",
    "import metrics\n",
    "from metrics import MAE, loss\n",
    "\n",
    "from fastai.vision.data import  DataLoaders\n",
    "from fastai.vision.all import Learner, GradientClip"
   ]
  },
  {
   "cell_type": "code",
   "execution_count": 7,
   "metadata": {},
   "outputs": [],
   "source": [
    "fname = 'example0'\n",
    "PATH = '/scratch/lemercier/WIP_data/'\n",
    "OUT = './'\n",
    "bs = 256\n",
    "num_workers = 2\n",
    "nfolds = 4\n",
    "device = 'cuda' if torch.cuda.is_available() else 'cpu'"
   ]
  },
  {
   "cell_type": "code",
   "execution_count": 8,
   "metadata": {},
   "outputs": [],
   "source": [
    "seq_pred = pd.read_csv(os.path.join(PATH,'test_sequences.csv'))\n",
    "public = seq_pred.query('future==0')\n",
    "sub = pd.read_csv(os.path.join(PATH,'sample_submission.csv'))"
   ]
  },
  {
   "cell_type": "code",
   "execution_count": 20,
   "metadata": {},
   "outputs": [
    {
     "name": "stderr",
     "output_type": "stream",
     "text": [
      "100%|██████████████████████████████████████████████████████████████| 1312/1312 [03:30<00:00,  6.23it/s]\n"
     ]
    },
    {
     "data": {
      "text/plain": [
       "0"
      ]
     },
     "execution_count": 20,
     "metadata": {},
     "output_type": "execute_result"
    }
   ],
   "source": [
    "res = []\n",
    "\n",
    "# prepare data\n",
    "ds_sub = RNA_Sub_Dataset(public)\n",
    "ds_len = RNA_Sub_Dataset(public, mask_only=True)\n",
    "sampler = torch.utils.data.SequentialSampler(ds_len)\n",
    "len_sampler = LenMatchBatchSampler(sampler, batch_size=bs,\n",
    "            drop_last=False)\n",
    "dl_sub = DeviceDataLoader(torch.utils.data.DataLoader(ds_sub, \n",
    "           batch_sampler=len_sampler, num_workers=num_workers), device)\n",
    "gc.collect()\n",
    "\n",
    "# load model\n",
    "model = RNA_Model()\n",
    "model.load_state_dict(torch.load('/scratch/lemercier/model.pth'))\n",
    "model.eval()\n",
    "\n",
    "model = model.to(device)\n",
    "\n",
    "for batch in tqdm(dl_sub):   \n",
    "\n",
    "    with torch.no_grad():\n",
    "        pred = model.forward(batch[0])\n",
    "\n",
    "        b = pred[1].shape[0]\n",
    "        reac = pred[1][batch[1]['mask'][:,:pred[1].shape[1]]].reshape(b,-1,2).detach().cpu().numpy()\n",
    "\n",
    "        # fill results\n",
    "        id_mins = batch[0]['id_min'].detach().cpu().numpy()\n",
    "        id_maxs = batch[0]['id_max'].detach().cpu().numpy()\n",
    "        \n",
    "        for i in range(b):\n",
    "            id_ = np.arange(id_mins[i], id_maxs[i]+1)\n",
    "            data = np.stack([id_, reac[i,:,1], reac[i,:,0]]).T\n",
    "            res.append(pd.DataFrame(data, columns=['id','reactivity_DMS_MaP','reactivity_2A3_MaP']))\n",
    "\n",
    "gc.collect()"
   ]
  },
  {
   "cell_type": "code",
   "execution_count": 21,
   "metadata": {},
   "outputs": [
    {
     "data": {
      "text/html": [
       "<div>\n",
       "<style scoped>\n",
       "    .dataframe tbody tr th:only-of-type {\n",
       "        vertical-align: middle;\n",
       "    }\n",
       "\n",
       "    .dataframe tbody tr th {\n",
       "        vertical-align: top;\n",
       "    }\n",
       "\n",
       "    .dataframe thead th {\n",
       "        text-align: right;\n",
       "    }\n",
       "</style>\n",
       "<table border=\"1\" class=\"dataframe\">\n",
       "  <thead>\n",
       "    <tr style=\"text-align: right;\">\n",
       "      <th></th>\n",
       "      <th>id</th>\n",
       "      <th>reactivity_DMS_MaP</th>\n",
       "      <th>reactivity_2A3_MaP</th>\n",
       "    </tr>\n",
       "  </thead>\n",
       "  <tbody>\n",
       "    <tr>\n",
       "      <th>0</th>\n",
       "      <td>0</td>\n",
       "      <td>-0.007659</td>\n",
       "      <td>0.086491</td>\n",
       "    </tr>\n",
       "    <tr>\n",
       "      <th>1</th>\n",
       "      <td>1</td>\n",
       "      <td>-0.010308</td>\n",
       "      <td>0.077308</td>\n",
       "    </tr>\n",
       "    <tr>\n",
       "      <th>2</th>\n",
       "      <td>2</td>\n",
       "      <td>-0.010237</td>\n",
       "      <td>0.071179</td>\n",
       "    </tr>\n",
       "    <tr>\n",
       "      <th>3</th>\n",
       "      <td>3</td>\n",
       "      <td>0.023897</td>\n",
       "      <td>0.017810</td>\n",
       "    </tr>\n",
       "    <tr>\n",
       "      <th>4</th>\n",
       "      <td>4</td>\n",
       "      <td>0.036157</td>\n",
       "      <td>0.031405</td>\n",
       "    </tr>\n",
       "    <tr>\n",
       "      <th>...</th>\n",
       "      <td>...</td>\n",
       "      <td>...</td>\n",
       "      <td>...</td>\n",
       "    </tr>\n",
       "    <tr>\n",
       "      <th>172</th>\n",
       "      <td>59440666</td>\n",
       "      <td>0.134237</td>\n",
       "      <td>0.491965</td>\n",
       "    </tr>\n",
       "    <tr>\n",
       "      <th>173</th>\n",
       "      <td>59440667</td>\n",
       "      <td>0.133345</td>\n",
       "      <td>0.496647</td>\n",
       "    </tr>\n",
       "    <tr>\n",
       "      <th>174</th>\n",
       "      <td>59440668</td>\n",
       "      <td>0.118865</td>\n",
       "      <td>0.465841</td>\n",
       "    </tr>\n",
       "    <tr>\n",
       "      <th>175</th>\n",
       "      <td>59440669</td>\n",
       "      <td>0.114309</td>\n",
       "      <td>0.493537</td>\n",
       "    </tr>\n",
       "    <tr>\n",
       "      <th>176</th>\n",
       "      <td>59440670</td>\n",
       "      <td>0.104496</td>\n",
       "      <td>0.537782</td>\n",
       "    </tr>\n",
       "  </tbody>\n",
       "</table>\n",
       "<p>59440671 rows × 3 columns</p>\n",
       "</div>"
      ],
      "text/plain": [
       "           id  reactivity_DMS_MaP  reactivity_2A3_MaP\n",
       "0           0           -0.007659            0.086491\n",
       "1           1           -0.010308            0.077308\n",
       "2           2           -0.010237            0.071179\n",
       "3           3            0.023897            0.017810\n",
       "4           4            0.036157            0.031405\n",
       "..        ...                 ...                 ...\n",
       "172  59440666            0.134237            0.491965\n",
       "173  59440667            0.133345            0.496647\n",
       "174  59440668            0.118865            0.465841\n",
       "175  59440669            0.114309            0.493537\n",
       "176  59440670            0.104496            0.537782\n",
       "\n",
       "[59440671 rows x 3 columns]"
      ]
     },
     "execution_count": 21,
     "metadata": {},
     "output_type": "execute_result"
    }
   ],
   "source": [
    "res_ = pd.concat(res)\n",
    "df = res_.astype({'id': 'int'})\n",
    "df"
   ]
  },
  {
   "cell_type": "code",
   "execution_count": 22,
   "metadata": {},
   "outputs": [],
   "source": [
    "full_sub = pd.read_csv(os.path.join(PATH,'sample_submission.csv'))"
   ]
  },
  {
   "cell_type": "code",
   "execution_count": 23,
   "metadata": {},
   "outputs": [
    {
     "data": {
      "text/plain": [
       "269796670"
      ]
     },
     "execution_count": 23,
     "metadata": {},
     "output_type": "execute_result"
    }
   ],
   "source": [
    "full_sub.id.max()"
   ]
  },
  {
   "cell_type": "code",
   "execution_count": 24,
   "metadata": {},
   "outputs": [
    {
     "data": {
      "text/plain": [
       "5"
      ]
     },
     "execution_count": 24,
     "metadata": {},
     "output_type": "execute_result"
    }
   ],
   "source": [
    "df.id.iloc[5]"
   ]
  },
  {
   "cell_type": "code",
   "execution_count": 25,
   "metadata": {},
   "outputs": [],
   "source": [
    "new_res = pd.concat([df, full_sub.iloc[df.id.iloc[-1]+1:]])"
   ]
  },
  {
   "cell_type": "code",
   "execution_count": 26,
   "metadata": {},
   "outputs": [
    {
     "data": {
      "text/plain": [
       "(269796671, 3)"
      ]
     },
     "execution_count": 26,
     "metadata": {},
     "output_type": "execute_result"
    }
   ],
   "source": [
    "new_res.shape"
   ]
  },
  {
   "cell_type": "code",
   "execution_count": 27,
   "metadata": {},
   "outputs": [],
   "source": [
    "new_res.to_parquet('/scratch/lemercier/mysubmissionname.parquet', index=False)"
   ]
  },
  {
   "cell_type": "code",
   "execution_count": 71,
   "metadata": {},
   "outputs": [
    {
     "data": {
      "text/plain": [
       "id                    5.944067e+07\n",
       "reactivity_DMS_MaP    4.477028e-01\n",
       "reactivity_2A3_MaP    4.526522e-01\n",
       "Name: 176, dtype: float64"
      ]
     },
     "execution_count": 71,
     "metadata": {},
     "output_type": "execute_result"
    }
   ],
   "source": [
    "new_res.iloc[df.id.iloc[-1]]"
   ]
  },
  {
   "cell_type": "code",
   "execution_count": 28,
   "metadata": {},
   "outputs": [],
   "source": [
    "check = pd.read_parquet('/scratch/lemercier/mysubmissionname.parquet')"
   ]
  },
  {
   "cell_type": "code",
   "execution_count": 29,
   "metadata": {},
   "outputs": [
    {
     "data": {
      "text/html": [
       "<div>\n",
       "<style scoped>\n",
       "    .dataframe tbody tr th:only-of-type {\n",
       "        vertical-align: middle;\n",
       "    }\n",
       "\n",
       "    .dataframe tbody tr th {\n",
       "        vertical-align: top;\n",
       "    }\n",
       "\n",
       "    .dataframe thead th {\n",
       "        text-align: right;\n",
       "    }\n",
       "</style>\n",
       "<table border=\"1\" class=\"dataframe\">\n",
       "  <thead>\n",
       "    <tr style=\"text-align: right;\">\n",
       "      <th></th>\n",
       "      <th>id</th>\n",
       "      <th>reactivity_DMS_MaP</th>\n",
       "      <th>reactivity_2A3_MaP</th>\n",
       "    </tr>\n",
       "  </thead>\n",
       "  <tbody>\n",
       "    <tr>\n",
       "      <th>0</th>\n",
       "      <td>0</td>\n",
       "      <td>-0.007659</td>\n",
       "      <td>0.086491</td>\n",
       "    </tr>\n",
       "    <tr>\n",
       "      <th>1</th>\n",
       "      <td>1</td>\n",
       "      <td>-0.010308</td>\n",
       "      <td>0.077308</td>\n",
       "    </tr>\n",
       "    <tr>\n",
       "      <th>2</th>\n",
       "      <td>2</td>\n",
       "      <td>-0.010237</td>\n",
       "      <td>0.071179</td>\n",
       "    </tr>\n",
       "    <tr>\n",
       "      <th>3</th>\n",
       "      <td>3</td>\n",
       "      <td>0.023897</td>\n",
       "      <td>0.017810</td>\n",
       "    </tr>\n",
       "    <tr>\n",
       "      <th>4</th>\n",
       "      <td>4</td>\n",
       "      <td>0.036157</td>\n",
       "      <td>0.031405</td>\n",
       "    </tr>\n",
       "    <tr>\n",
       "      <th>...</th>\n",
       "      <td>...</td>\n",
       "      <td>...</td>\n",
       "      <td>...</td>\n",
       "    </tr>\n",
       "    <tr>\n",
       "      <th>269796666</th>\n",
       "      <td>269796666</td>\n",
       "      <td>0.000000</td>\n",
       "      <td>0.000000</td>\n",
       "    </tr>\n",
       "    <tr>\n",
       "      <th>269796667</th>\n",
       "      <td>269796667</td>\n",
       "      <td>0.000000</td>\n",
       "      <td>0.000000</td>\n",
       "    </tr>\n",
       "    <tr>\n",
       "      <th>269796668</th>\n",
       "      <td>269796668</td>\n",
       "      <td>0.000000</td>\n",
       "      <td>0.000000</td>\n",
       "    </tr>\n",
       "    <tr>\n",
       "      <th>269796669</th>\n",
       "      <td>269796669</td>\n",
       "      <td>0.000000</td>\n",
       "      <td>0.000000</td>\n",
       "    </tr>\n",
       "    <tr>\n",
       "      <th>269796670</th>\n",
       "      <td>269796670</td>\n",
       "      <td>0.000000</td>\n",
       "      <td>0.000000</td>\n",
       "    </tr>\n",
       "  </tbody>\n",
       "</table>\n",
       "<p>269796671 rows × 3 columns</p>\n",
       "</div>"
      ],
      "text/plain": [
       "                  id  reactivity_DMS_MaP  reactivity_2A3_MaP\n",
       "0                  0           -0.007659            0.086491\n",
       "1                  1           -0.010308            0.077308\n",
       "2                  2           -0.010237            0.071179\n",
       "3                  3            0.023897            0.017810\n",
       "4                  4            0.036157            0.031405\n",
       "...              ...                 ...                 ...\n",
       "269796666  269796666            0.000000            0.000000\n",
       "269796667  269796667            0.000000            0.000000\n",
       "269796668  269796668            0.000000            0.000000\n",
       "269796669  269796669            0.000000            0.000000\n",
       "269796670  269796670            0.000000            0.000000\n",
       "\n",
       "[269796671 rows x 3 columns]"
      ]
     },
     "execution_count": 29,
     "metadata": {},
     "output_type": "execute_result"
    }
   ],
   "source": [
    "check"
   ]
  }
 ],
 "metadata": {
  "kernelspec": {
   "display_name": "rSigs",
   "language": "python",
   "name": "rsigs"
  },
  "language_info": {
   "codemirror_mode": {
    "name": "ipython",
    "version": 3
   },
   "file_extension": ".py",
   "mimetype": "text/x-python",
   "name": "python",
   "nbconvert_exporter": "python",
   "pygments_lexer": "ipython3",
   "version": "3.9.13"
  }
 },
 "nbformat": 4,
 "nbformat_minor": 4
}
